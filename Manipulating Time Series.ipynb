{
 "cells": [
  {
   "cell_type": "markdown",
   "metadata": {},
   "source": [
    "<p><h1> Manipulating Time Series in ODM2 </h1></p>\n",
    "<p>This is a sample Jupyter Notebook for ODM2 and ODM2 Admin. This file contains code to make some modifications to some time series. Removing some duplicate values and adding null values where there is a break in the time series.</p> \n",
    "<p>1) In the first block of code below, we import the Django ORM models and model helper functions. </p>\n",
    "<p>2) Use the model helper function searchModelColumnFor to find a sampling feature (location) with a particular name. The parameters are 1- the string to search for, 2- the Django ORM model to search in, 3- the model field to search in. </p>"
   ]
  },
  {
   "cell_type": "code",
   "execution_count": 1,
   "metadata": {
    "collapsed": true
   },
   "outputs": [],
   "source": [
    "from ODM2CZOData.models import *\n",
    "from ODM2CZOData.modelHelpers import *\n",
    "Sonadora = searchModelColumnFor(\" QS-Quebrada Sonadora \", Samplingfeatures, 'samplingfeaturecode')"
   ]
  },
  {
   "cell_type": "markdown",
   "metadata": {},
   "source": [
    "<p>3) Next find the feature actions related to this sampling feature, the results related to it, then the time series results associated with the results.</p>"
   ]
  },
  {
   "cell_type": "code",
   "execution_count": 2,
   "metadata": {
    "collapsed": true
   },
   "outputs": [],
   "source": [
    "SonadoraFeatureActions = Featureactions.objects.filter(samplingfeatureid=Sonadora)\n",
    "SonadoraResults = Results.objects.filter(featureactionid__in=SonadoraFeatureActions)\n",
    "SonadoraTimeSeriesResults = Timeseriesresults.objects.filter(resultid__in=SonadoraResults)"
   ]
  },
  {
   "cell_type": "markdown",
   "metadata": {},
   "source": [
    "<p>4) Now display the time series results and make sure they are the ones your looking for. </p>"
   ]
  },
  {
   "cell_type": "code",
   "execution_count": 3,
   "metadata": {
    "collapsed": false
   },
   "outputs": [
    {
     "name": "stdout",
     "output_type": "stream",
     "text": [
      "Abs Pres - Water Pressure gauge - 1698- QS-Quebrada Sonadora - 3- Stream gage - Quebrada Sonadora - Observation | Hobo U20 Water Level , Observation - ID: 16154 , 15.0, Minutes- Minutes\n",
      "Absorbance-254 - Light absorbed from  - 1699- QS-Quebrada Sonadora - 3- Stream gage - Quebrada Sonadora - Observation | SUNA , Observation - ID: 16543 , 15.0, Minutes- Minutes\n",
      "Absorbance-350 - Light Absorbed from  - 1699- QS-Quebrada Sonadora - 3- Stream gage - Quebrada Sonadora - Observation | SUNA , Observation - ID: 16544 , 15.0, Minutes- Minutes\n",
      "Bromide - Bromide - 1699- QS-Quebrada Sonadora - 3- Stream gage - Quebrada Sonadora - Observation | SUNA , Observation - ID: 16546 , 15.0, Minutes- Minutes\n",
      "CDOM - Organic matter in wa - 1700- QS-Quebrada Sonadora - 3- Stream gage - Quebrada Sonadora - Observation | Manta-multi probe , Observation - ID: 16537 , 15.0, Minutes- Minutes\n",
      "CO2- millivolts - millivolts from Vail - 1701- QS-Quebrada Sonadora - 3- Stream gage - Quebrada Sonadora - Observation | Vaisala GMM220 CO2 Sensor , Observation - ID: 16542 , 15.0, Minutes- Minutes\n",
      "Conductivity - 1- QS-Quebrada Sonadora - 3- Stream gage - Quebrada Sonadora - Observation | Hobo StreamCondMeasurement , Observation - ID: 4 , 15.0, Minutes- Minutes\n",
      "Conductivity - 1- QS-Quebrada Sonadora - 3- Stream gage - Quebrada Sonadora - Observation | Hobo StreamCondMeasurement , Observation - ID: 16156 , 15.0, Minutes- Minutes\n",
      "Depth10 - 1700- QS-Quebrada Sonadora - 3- Stream gage - Quebrada Sonadora - Observation | Manta-multi probe , Observation - ID: 16536 , 15.0, Minutes- Minutes\n",
      "DO Concentration - 2- QS-Quebrada Sonadora - 3- Stream gage - Quebrada Sonadora - Observation | Hobo DOMeasurement , Observation - ID: 16158 , 15.0, Minutes- Minutes\n",
      "DO Concentration - 2- QS-Quebrada Sonadora - 3- Stream gage - Quebrada Sonadora - Observation | Hobo DOMeasurement , Observation - ID: 7 , 15.0, Minutes- Minutes\n",
      "DO Precent Saturation - Used Weiss Equations - 2- QS-Quebrada Sonadora - 3- Stream gage - Quebrada Sonadora - Observation | Hobo DOMeasurement , Observation - ID: 501 , 15.0, Minutes- Minutes\n",
      "HDO - Dissolved Oxygen - 1700- QS-Quebrada Sonadora - 3- Stream gage - Quebrada Sonadora - Observation | Manta-multi probe , Observation - ID: 16540 , 15.0, Minutes- Minutes\n",
      "HDO - Dissolved Oxygen - 1700- QS-Quebrada Sonadora - 3- Stream gage - Quebrada Sonadora - Observation | Manta-multi probe , Observation - ID: 16539 , 15.0, Minutes- Minutes\n",
      "IBatt - Internal Battery Vol - 1702- QS-Quebrada Sonadora - 3- Stream gage - Quebrada Sonadora - Observation | CR1000-Datalogger , Observation - ID: 16532 , 15.0, Minutes- Minutes\n",
      "Light Average - Light Average - 1699- QS-Quebrada Sonadora - 3- Stream gage - Quebrada Sonadora - Observation | SUNA , Observation - ID: 16547 , 15.0, Minutes- Minutes\n",
      "Light Intensity - Light Intensity - 1724- QS-Quebrada Sonadora - 3- Stream gage - Quebrada Sonadora - Observation | HOBO Light and Temp Sensor UA-002-64 , Observation - ID: 16675 , 15.0, Minutes- Minutes\n",
      "Nitrate (NO3) - Nitrate (NO3) - 1699- QS-Quebrada Sonadora - 3- Stream gage - Quebrada Sonadora - Observation | SUNA , Observation - ID: 16524 , 15.0, Minutes- Minutes\n",
      "Nitrate (NO3) - Nitrate (NO3) - 1699- QS-Quebrada Sonadora - 3- Stream gage - Quebrada Sonadora - Observation | SUNA , Observation - ID: 16525 , 15.0, Minutes- Minutes\n",
      "pH - 1700- QS-Quebrada Sonadora - 3- Stream gage - Quebrada Sonadora - Observation | Manta-multi probe , Observation - ID: 16534 , 15.0, Minutes- Minutes\n",
      "pH - 1700- QS-Quebrada Sonadora - 3- Stream gage - Quebrada Sonadora - Observation | Manta-multi probe , Observation - ID: 16541 , 15.0, Minutes- Minutes\n",
      "Record - Record number from C - 1702- QS-Quebrada Sonadora - 3- Stream gage - Quebrada Sonadora - Observation | CR1000-Datalogger , Observation - ID: 16529 , 15.0, Minutes- Minutes\n",
      "SpCond - 1700- QS-Quebrada Sonadora - 3- Stream gage - Quebrada Sonadora - Observation | Manta-multi probe , Observation - ID: 16535 , 15.0, Minutes- Minutes\n",
      "Temp C - Air Temperature in d - 1724- QS-Quebrada Sonadora - 3- Stream gage - Quebrada Sonadora - Observation | HOBO Light and Temp Sensor UA-002-64 , Observation - ID: 16676 , 15.0, Minutes- Minutes\n",
      "Temperature - instrument - Temperature in a dat - 1702- QS-Quebrada Sonadora - 3- Stream gage - Quebrada Sonadora - Observation | CR1000-Datalogger , Observation - ID: 16530 , 15.0, Minutes- Minutes\n",
      "Turbidity - Turbidity is an indi - 1700- QS-Quebrada Sonadora - 3- Stream gage - Quebrada Sonadora - Observation | Manta-multi probe , Observation - ID: 16538 , 15.0, Minutes- Minutes\n",
      "Water Temperature - 2- QS-Quebrada Sonadora - 3- Stream gage - Quebrada Sonadora - Observation | Hobo DOMeasurement , Observation - ID: 16157 , 15.0, Minutes- Minutes\n",
      "Water Temperature - 1698- QS-Quebrada Sonadora - 3- Stream gage - Quebrada Sonadora - Observation | Hobo U20 Water Level , Observation - ID: 16155 , 15.0, Minutes- Minutes\n",
      "Water Temperature - 1- QS-Quebrada Sonadora - 3- Stream gage - Quebrada Sonadora - Observation | Hobo StreamCondMeasurement , Observation - ID: 16153 , 15.0, Minutes- Minutes\n",
      "Water Temperature - 2- QS-Quebrada Sonadora - 3- Stream gage - Quebrada Sonadora - Observation | Hobo DOMeasurement , Observation - ID: 8 , 15.0, Minutes- Minutes\n",
      "Water Temperature - 1- QS-Quebrada Sonadora - 3- Stream gage - Quebrada Sonadora - Observation | Hobo StreamCondMeasurement , Observation - ID: 5 , 15.0, Minutes- Minutes\n",
      "Water Temperature - 1700- QS-Quebrada Sonadora - 3- Stream gage - Quebrada Sonadora - Observation | Manta-multi probe , Observation - ID: 16533 , 15.0, Minutes- Minutes\n"
     ]
    }
   ],
   "source": [
    "for SonadoraTimeSeriesResult in SonadoraTimeSeriesResults:\n",
    "    print(SonadoraTimeSeriesResult)"
   ]
  },
  {
   "cell_type": "markdown",
   "metadata": {},
   "source": [
    "<p> 5) Next find the time series result values related to these time series results and order them by result and time. </p> "
   ]
  },
  {
   "cell_type": "code",
   "execution_count": 4,
   "metadata": {
    "collapsed": false
   },
   "outputs": [
    {
     "name": "stderr",
     "output_type": "stream",
     "text": [
      "C:\\Users\\leonmi\\AppData\\Roaming\\Python\\Python27\\site-packages\\django\\db\\models\\fields\\__init__.py:1430: RuntimeWarning: DateTimeField Timeseriesresultvalues.valuedatetime received a naive datetime (2016-11-06 00:00:00) while time zone support is active.\n",
      "  RuntimeWarning)\n"
     ]
    }
   ],
   "source": [
    "tsrvs = Timeseriesresultvalues.objects.filter(resultid__in=SonadoraTimeSeriesResults).filter(valuedatetime__gte='2016-11-06')\\\n",
    "        .order_by('resultid', 'valuedatetime')"
   ]
  },
  {
   "cell_type": "markdown",
   "metadata": {},
   "source": [
    "<p>6) find duplicate time series result values and delete them. </p>"
   ]
  },
  {
   "cell_type": "code",
   "execution_count": 5,
   "metadata": {
    "collapsed": false
   },
   "outputs": [],
   "source": [
    "lasttsrv = None\n",
    "for tsrv in tsrvs:\n",
    "    if lasttsrv == None:\n",
    "        lasttsrv = tsrv\n",
    "        continue\n",
    "    elif tsrv.resultid == lasttsrv.resultid and tsrv.valuedatetime == lasttsrv.valuedatetime:\n",
    "        print(tsrv)\n",
    "        #tsrv.delete()\n",
    "    lasttsrv = tsrv"
   ]
  },
  {
   "cell_type": "markdown",
   "metadata": {},
   "source": [
    "<p>7) Now, for each time series, we will insert NAN values, during a time period when data was not being recorded. This will allow highcharts in ODM2 Admin to display the graphs properly, with a gap.  </p>"
   ]
  },
  {
   "cell_type": "code",
   "execution_count": 9,
   "metadata": {
    "collapsed": false
   },
   "outputs": [],
   "source": [
    "censorcode = CvCensorcode.objects.filter(name=\"Not censored\").get()\n",
    "qualitycode = CvQualitycode.objects.filter(name=\"Good\").get()\n",
    "\n",
    "for SonadoraTimeSeriesResult in SonadoraTimeSeriesResults:\n",
    "    newtsrv = Timeseriesresultvalues(resultid=SonadoraTimeSeriesResult, datavalue=None,)\n",
    "    Timeseriesresultvalues(\n",
    "                                                    resultid=SonadoraTimeSeriesResult,\n",
    "                                                    datavalue='NAN',\n",
    "                                                    valuedatetime='2016-11-26 12:00:00',\n",
    "                                                    valuedatetimeutcoffset=4,\n",
    "                                                    censorcodecv=censorcode,\n",
    "                                                    qualitycodecv=qualitycode,\n",
    "                                                    timeaggregationinterval=SonadoraTimeSeriesResult\n",
    "                                                    .intendedtimespacing,\n",
    "                                                    timeaggregationintervalunitsid=SonadoraTimeSeriesResult\n",
    "                                                    .intendedtimespacingunitsid\n",
    "                                                )#.save()"
   ]
  },
  {
   "cell_type": "code",
   "execution_count": null,
   "metadata": {
    "collapsed": true
   },
   "outputs": [],
   "source": []
  }
 ],
 "metadata": {
  "kernelspec": {
   "display_name": "Django Shell-Plus",
   "language": "python",
   "name": "django_extensions"
  },
  "language_info": {
   "codemirror_mode": {
    "name": "ipython",
    "version": 2
   },
   "file_extension": ".py",
   "mimetype": "text/x-python",
   "name": "python",
   "nbconvert_exporter": "python",
   "pygments_lexer": "ipython2",
   "version": "2.7.9"
  }
 },
 "nbformat": 4,
 "nbformat_minor": 1
}
